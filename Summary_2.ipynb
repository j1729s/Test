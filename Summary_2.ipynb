{
 "cells": [
  {
   "cell_type": "markdown",
   "id": "5ea46c9e-e953-4cad-93cf-fcacd1dcad88",
   "metadata": {},
   "source": [
    "## Feature Engineering"
   ]
  },
  {
   "cell_type": "markdown",
   "id": "a458ccdf-1be5-478f-a8cb-34587212f512",
   "metadata": {},
   "source": [
    "Continuing from the last summary, we were trying to create a proxy for the order flow. What I had done is to seperate the transactions data into three groups:\n",
    "\n",
    "1. SWAPS\n",
    "2. Liquidity\n",
    "3. Minting or redeeming"
   ]
  },
  {
   "cell_type": "markdown",
   "id": "be85f3f1-0309-431a-8ebb-00506ae867aa",
   "metadata": {},
   "source": [
    "SWAPS would be the analogy to a traditional measure of Order Flow because it tells us about the supply and demand dynamics of the asset. However, in this case that's easier said than done. Because one can buy PT using any coin eg. ETH or DAI or anything on the Pendle Platform. And similarly for YT. Therefore, PT and YT are not dualistics in nature at least in the supply and demand way of things. That is to say that the data might indicate that both PT and YT are in high demand. And just because people are buying a lot of PT does not mean they are selling a lot of YT. As would have been the case for a transaction for BTCUSDT in a CEX. So what I have done is that I treat both PT and YT as seperate instruments almost and calculate the buy/sell pressure on each one as such:\n",
    "\n",
    "![text](./first.png)"
   ]
  },
  {
   "cell_type": "markdown",
   "id": "847b53e4-4a4b-4790-a6d1-c93ec8f67961",
   "metadata": {},
   "source": [
    "The volume of each being bought and sold serves as a proxy for the demand of each. Then using the difference from the past day we calculate the order imbalance as such.\n",
    "\n",
    "![text](./Second.png)"
   ]
  },
  {
   "cell_type": "markdown",
   "id": "8cb21b2e-a3c2-4f59-a0ca-600c81caccac",
   "metadata": {},
   "source": [
    "The 'cross_ratio' varibale is the ratio of imbalance of YT to PT. However, this is incomplete as using this did not bear much fruit in terms of accuracy and predictability of the implied APY. So we look towards the liquidity data."
   ]
  },
  {
   "cell_type": "markdown",
   "id": "d9fb9350-2135-48e9-802c-c7d1524af761",
   "metadata": {},
   "source": [
    "Here, we will create an imbalance based on the volume of liquidity being added and removed, within a timeframe which is used as a proxy for the health of the particular pendle market and how closely it represents the underlying. Defining it as order imbalance is, as the difference of the \"flow of\" bids and ask did not make any sense to me as this here is not the same as an order book and how the volume added has changed compared to the previuos day does not matter as much as the magnitude of the added liquidity itself. this brings us to the strongest indicator I have found for explaining changes in the implied APY the liquidity imbalance:\n",
    "\n",
    "![text](./Third.png)"
   ]
  },
  {
   "cell_type": "markdown",
   "id": "f1046b81-4310-4282-8636-8a419f023ca7",
   "metadata": {},
   "source": [
    "It is a very good predictor of the implied as can be seen. Albeit of course it can wrong at times eg, 2024-02-24 and 2023-10-24 in this case. A strong up signal of let's say 1 on 2023-10-23 indictes that the implied will go up which it does by 2% out of the previous 8%."
   ]
  },
  {
   "cell_type": "markdown",
   "id": "83c0a5db-f63c-4e1f-87bb-87dc8b48ecd4",
   "metadata": {},
   "source": [
    "While analysing the transactions data I realised that while removing liquidity people can also get it back in form of PT as such.\n",
    "\n",
    "![text](./Fourth.png)"
   ]
  },
  {
   "cell_type": "markdown",
   "id": "49a3e80b-1b70-4479-8d6c-829a0700f81c",
   "metadata": {},
   "source": [
    "Now why would someone remove liquidity i.e., give up on the yield and Pendle rewards that they were getting only to buy PT. Let's imagine two scenarios:\n",
    "\n",
    "1. The Implied APY is overvalued but Underlying APY is reasonable:\n",
    "\n",
    "![text](Fifth.png)\n",
    "\n",
    "In this case it could be that someone bought the PT when Implied APY is high, i.e., PT is cheap and will sell them for a profit when the implied APY eventually comes down close to the underlying at the end of the contract and PT price is high.\n",
    "\n",
    "2. Both are overvalued:\n",
    "\n",
    "![text](Sixth.png)\n",
    "\n",
    "In this case one expects both the underlying and implied to come down as both are over valued. Hence locking in PT at a cheap price is favourable. This is backed by the data as such. We can see in the above data frame that a lot of liquidity was taken out during the 16th of Feb right befor the underlying fell with the implied."
   ]
  },
  {
   "cell_type": "markdown",
   "id": "6ff70a89-217f-4106-b0ac-dd3aaaa1d694",
   "metadata": {},
   "source": [
    "This can also be interpreted as demand for PT therefore I add these to create imbalance indicators of PT. Similarly, redemptions and minting can also be used for the same. I have not seen in the data what quantity of the minting is due to zero price impact mode. That would also be used to create an indicator. Please send me reference if you can!"
   ]
  },
  {
   "cell_type": "markdown",
   "id": "c770ecef-cf4d-4584-84bb-a99378a11836",
   "metadata": {},
   "source": [
    "I have not included the code for these as I am still fiddling with these indicators and all rough work and models will be shared at the end of this week. This is just the basis of the premise I am working with."
   ]
  }
 ],
 "metadata": {
  "kernelspec": {
   "display_name": "Python 3 (ipykernel)",
   "language": "python",
   "name": "python3"
  },
  "language_info": {
   "codemirror_mode": {
    "name": "ipython",
    "version": 3
   },
   "file_extension": ".py",
   "mimetype": "text/x-python",
   "name": "python",
   "nbconvert_exporter": "python",
   "pygments_lexer": "ipython3",
   "version": "3.11.2"
  }
 },
 "nbformat": 4,
 "nbformat_minor": 5
}
